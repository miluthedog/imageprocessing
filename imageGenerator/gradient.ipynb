{
 "cells": [
  {
   "cell_type": "code",
   "execution_count": null,
   "id": "269bc981-20cc-41a5-bda8-e6c835aaa901",
   "metadata": {},
   "outputs": [],
   "source": [
    "import cv2 as cv\n",
    "import numpy as np"
   ]
  },
  {
   "cell_type": "code",
   "execution_count": null,
   "id": "5e1f7d6e-4762-4313-829a-573ef89a0b23",
   "metadata": {},
   "outputs": [],
   "source": [
    "width, height = 1920, 1080\n",
    "\n",
    "color1 = np.array([0, 31, 63])    # Dark Blue #001f3f\n",
    "color2 = np.array([0, 212, 255])  # Cyan #00d4ff\n",
    "\n",
    "img = np.zeros((height, width, 3), dtype=np.uint8)\n",
    "\n",
    "for x in range(width):\n",
    "    for y in range(height):\n",
    "        blend = (x + y) / (width + height)\n",
    "\n",
    "        r = int(color1[0] + (color2[0] - color1[0]) * blend)\n",
    "        g = int(color1[1] + (color2[1] - color1[1]) * blend)\n",
    "        b = int(color1[2] + (color2[2] - color1[2]) * blend)\n",
    "        \n",
    "        img[y, x] = [b, g, r]"
   ]
  },
  {
   "cell_type": "code",
   "execution_count": null,
   "id": "9dde7ccd-d27f-4c8e-a10f-9e97fe5f1b93",
   "metadata": {},
   "outputs": [],
   "source": [
    "cv.imwrite(\"gradient_135deg.png\", img)"
   ]
  }
 ],
 "metadata": {
  "kernelspec": {
   "display_name": "Python 3 (ipykernel)",
   "language": "python",
   "name": "python3"
  },
  "language_info": {
   "codemirror_mode": {
    "name": "ipython",
    "version": 3
   },
   "file_extension": ".py",
   "mimetype": "text/x-python",
   "name": "python",
   "nbconvert_exporter": "python",
   "pygments_lexer": "ipython3",
   "version": "3.12.4"
  }
 },
 "nbformat": 4,
 "nbformat_minor": 5
}
