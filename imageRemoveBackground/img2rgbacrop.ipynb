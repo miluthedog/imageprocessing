{
 "cells": [
  {
   "cell_type": "code",
   "execution_count": null,
   "id": "85268b1e-d65b-4f4d-8dff-9ad9f8498399",
   "metadata": {},
   "outputs": [],
   "source": [
    "'''\n",
    "input: .png image\n",
    "\n",
    "output: .png gray scale, removed background\n",
    "'''"
   ]
  },
  {
   "cell_type": "code",
   "execution_count": null,
   "id": "75c62dc5-164a-4129-81ab-de4e0dd2eaf5",
   "metadata": {},
   "outputs": [],
   "source": [
    "import cv2 as cv\n",
    "import matplotlib.pyplot as plt\n",
    "\n",
    "image = cv.imread(\"images/test1.png\", cv.IMREAD_GRAYSCALE)\n",
    "plt.imshow(image, cmap='gray')"
   ]
  },
  {
   "cell_type": "code",
   "execution_count": null,
   "id": "55dcd735-dc94-4190-ad32-40042cd22a61",
   "metadata": {},
   "outputs": [],
   "source": [
    "_,white = cv.threshold(image, 240, 255, cv.THRESH_BINARY)\n",
    "black = cv.bitwise_not(white)\n",
    "plt.imshow(black, cmap='gray')"
   ]
  },
  {
   "cell_type": "code",
   "execution_count": null,
   "id": "a511e211-ffab-4254-9bb2-66753ecf0aef",
   "metadata": {},
   "outputs": [],
   "source": [
    "coords = cv.findNonZero(black)\n",
    "x, y, w, h = cv.boundingRect(coords)\n",
    "cropped_image = image[y:y+h, x:x+w]\n",
    "plt.imshow(cropped_image, cmap='gray')"
   ]
  },
  {
   "cell_type": "code",
   "execution_count": null,
   "id": "0d759811-e46b-4e77-bd65-5726331bbf7d",
   "metadata": {},
   "outputs": [],
   "source": [
    "cropped_black = black[y:y+h, x:x+w]\n",
    "\n",
    "trans = cv.cvtColor(cropped_image, cv.COLOR_GRAY2BGRA)\n",
    "trans[:, :, 3] = cropped_black\n",
    "plt.imshow(trans)"
   ]
  },
  {
   "cell_type": "code",
   "execution_count": null,
   "id": "1c63d69f-fafd-4e68-a8bc-9ca674f2632a",
   "metadata": {},
   "outputs": [],
   "source": [
    "cv.imwrite(\"gray_chan2.png\", trans)"
   ]
  }
 ],
 "metadata": {
  "kernelspec": {
   "display_name": "Python 3 (ipykernel)",
   "language": "python",
   "name": "python3"
  },
  "language_info": {
   "codemirror_mode": {
    "name": "ipython",
    "version": 3
   },
   "file_extension": ".py",
   "mimetype": "text/x-python",
   "name": "python",
   "nbconvert_exporter": "python",
   "pygments_lexer": "ipython3",
   "version": "3.12.4"
  }
 },
 "nbformat": 4,
 "nbformat_minor": 5
}
