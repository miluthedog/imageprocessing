{
 "cells": [
  {
   "cell_type": "code",
   "execution_count": 1,
   "id": "1a8feeb1-b795-4695-998c-a7b0431e60a3",
   "metadata": {},
   "outputs": [],
   "source": [
    "'''\n",
    "input: .png image with 3 main areas\n",
    "    pattern: the smallest area, dark colored\n",
    "    workpiece: area inside workspace\n",
    "    workspace\n",
    "\n",
    "output: extract pattern on transparent .png file\n",
    "'''"
   ]
  },
  {
   "cell_type": "code",
   "execution_count": null,
   "id": "5002be6c",
   "metadata": {},
   "outputs": [],
   "source": [
    "from sklearn.cluster import KMeans\n",
    "import cv2 as cv\n",
    "import numpy as np\n",
    "import matplotlib.pyplot as plt"
   ]
  },
  {
   "cell_type": "code",
   "execution_count": null,
   "id": "1392ebad-a22e-4405-882f-3a37b023a192",
   "metadata": {},
   "outputs": [],
   "source": [
    "# input\n",
    "\n",
    "raw_image = cv.imread(\"images/image1.png\")\n",
    "resized_image = cv.resize(raw_image, (0, 0), fx=0.5, fy=0.5)\n",
    "realimage = cv.cvtColor(resized_image, cv.COLOR_BGR2RGB)\n",
    "plt.imshow(realimage)"
   ]
  },
  {
   "cell_type": "code",
   "execution_count": null,
   "id": "158e1175-33bf-44f4-9611-ffe5e19ae6dc",
   "metadata": {},
   "outputs": [],
   "source": [
    "# gray, blur, canny edge\n",
    "\n",
    "gray = cv.cvtColor(resized_image, cv.COLOR_BGR2GRAY)\n",
    "blurred = cv.GaussianBlur(gray, (5, 5), 0)\n",
    "edges = cv.Canny(blurred, 50, 150)\n",
    "\n",
    "plt.imshow(edges)"
   ]
  },
  {
   "cell_type": "code",
   "execution_count": null,
   "id": "99d3629c-8b55-4f37-9879-c25dc6e006f3",
   "metadata": {},
   "outputs": [],
   "source": [
    "# extract largest contours\n",
    "\n",
    "contours, _ = cv.findContours(edges, cv.RETR_EXTERNAL, cv.CHAIN_APPROX_SIMPLE)\n",
    "contours = sorted(contours, key=cv.contourArea, reverse=True)\n",
    "largest_contour = np.zeros_like(gray)\n",
    "cv.drawContours(largest_contour, [contours[0]], -1, 255, thickness=cv.FILLED)\n",
    "\n",
    "plt.imshow(largest_contour)"
   ]
  },
  {
   "cell_type": "code",
   "execution_count": null,
   "id": "6a6e1e3d-93fa-473c-8de0-8a8674862f68",
   "metadata": {},
   "outputs": [],
   "source": [
    "# and: take inner path of image\n",
    "# or: make part that black (outter part) colored, pattern similar to black, also changed to almost-colored\n",
    "\n",
    "blue_background = np.zeros_like(resized_image)\n",
    "blue_background[:, :] = [0, 0, 255]\n",
    "image_with_contour = cv.bitwise_and(resized_image, resized_image, mask=largest_contour)\n",
    "image_or = cv.bitwise_or(blue_background, image_with_contour)\n",
    "\n",
    "plt.imshow(image_or)"
   ]
  },
  {
   "cell_type": "code",
   "execution_count": null,
   "id": "08414959-2fd6-4a8b-94fa-00aae76286f6",
   "metadata": {},
   "outputs": [],
   "source": [
    "# and: take inner path of previous step (colored pattern now)\n",
    "# xor: background exact same color: removed. inner same white: black. pattern change to a completly different color\n",
    "\n",
    "image_with_contour = cv.bitwise_and(image_or, image_or, mask=largest_contour)\n",
    "image_xor = cv.bitwise_xor(blue_background, image_with_contour)\n",
    "\n",
    "plt.imshow(image_xor)"
   ]
  },
  {
   "cell_type": "code",
   "execution_count": null,
   "id": "200de55d-8799-4773-834f-5142bb444a09",
   "metadata": {},
   "outputs": [],
   "source": [
    "# clustering into clusters\n",
    "\n",
    "data = image_xor.reshape(-1, 3)\n",
    "kmeans = KMeans(n_clusters=3, random_state=0).fit(data)\n",
    "clustered_image = kmeans.labels_.reshape(image_xor.shape[:2])\n",
    "\n",
    "plt.imshow(clustered_image)"
   ]
  },
  {
   "cell_type": "code",
   "execution_count": null,
   "id": "5fe1f45c-fd2d-43de-a080-698f34e9d872",
   "metadata": {},
   "outputs": [],
   "source": [
    "# extract smallest cluster\n",
    "\n",
    "clustered_data = np.bincount(clustered_image.flatten())\n",
    "pattern_index = np.argmin(clustered_data)\n",
    "pattern = (clustered_image == pattern_index).astype(np.uint8)\n",
    "\n",
    "plt.imshow(pattern)"
   ]
  },
  {
   "cell_type": "code",
   "execution_count": null,
   "id": "aa1df886-6182-450c-bf02-dec40b033b6c",
   "metadata": {},
   "outputs": [],
   "source": [
    "# split a cluster into connected components\n",
    "\n",
    "nums, connected_patterns, stats, centroids = cv.connectedComponentsWithStats(pattern, connectivity=8)\n",
    "\n",
    "plt.imshow(connected_patterns)"
   ]
  },
  {
   "cell_type": "code",
   "execution_count": null,
   "id": "65634ab5-5c79-4608-bfed-a7b42706ee0e",
   "metadata": {},
   "outputs": [],
   "source": [
    "# remove small size (noise) connected components\n",
    "\n",
    "pattern_area = clustered_data[pattern_index]\n",
    "threshold_value = 0.05\n",
    "threshold = int(threshold_value * pattern_area)\n",
    "\n",
    "clean_pattern = np.zeros_like(pattern)\n",
    "for i in range(1, nums):\n",
    "    if stats[i, cv.CC_STAT_AREA] > threshold:\n",
    "        clean_pattern[connected_patterns == i] = 255\n",
    "\n",
    "plt.imshow(clean_pattern)"
   ]
  },
  {
   "cell_type": "code",
   "execution_count": null,
   "id": "318f4a65-9efd-428e-8241-03bd8357be61",
   "metadata": {},
   "outputs": [],
   "source": [
    "# fill background \"transparent\"\n",
    "\n",
    "clean_pattern_height, clean_pattern_width = clean_pattern.shape\n",
    "image_transpattern = np.zeros((clean_pattern_height, clean_pattern_width, 4), dtype=np.uint8)\n",
    "image_transpattern[clean_pattern != 0] = [0, 0, 0, 255]\n",
    "image_transpattern[clean_pattern == 0] = [0, 0, 0, 0]\n",
    "\n",
    "plt.imshow(image_transpattern)"
   ]
  },
  {
   "cell_type": "code",
   "execution_count": null,
   "id": "bd1c8208-e72a-4e12-a1d1-877add72fce5",
   "metadata": {},
   "outputs": [],
   "source": [
    "# save result\n",
    "\n",
    "cv.imwrite('image_transpattern.png', image_transpattern)"
   ]
  }
 ],
 "metadata": {
  "kernelspec": {
   "display_name": "Python 3 (ipykernel)",
   "language": "python",
   "name": "python3"
  },
  "language_info": {
   "codemirror_mode": {
    "name": "ipython",
    "version": 3
   },
   "file_extension": ".py",
   "mimetype": "text/x-python",
   "name": "python",
   "nbconvert_exporter": "python",
   "pygments_lexer": "ipython3",
   "version": "3.12.4"
  }
 },
 "nbformat": 4,
 "nbformat_minor": 5
}
